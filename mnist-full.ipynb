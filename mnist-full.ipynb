{
 "cells": [
  {
   "cell_type": "code",
   "execution_count": 212,
   "id": "7e032562",
   "metadata": {},
   "outputs": [],
   "source": [
    "from fastai.vision.all import *"
   ]
  },
  {
   "cell_type": "code",
   "execution_count": 213,
   "id": "818a8dad",
   "metadata": {},
   "outputs": [],
   "source": [
    "from utils import *\n",
    "from fastbook import *"
   ]
  },
  {
   "cell_type": "code",
   "execution_count": 214,
   "id": "4ee1a356",
   "metadata": {},
   "outputs": [],
   "source": [
    "path = untar_data(URLs.MNIST)"
   ]
  },
  {
   "cell_type": "code",
   "execution_count": 215,
   "id": "de2196bc",
   "metadata": {},
   "outputs": [],
   "source": [
    "Path.BASE_PATH = path"
   ]
  },
  {
   "cell_type": "code",
   "execution_count": 216,
   "id": "087cde2f",
   "metadata": {},
   "outputs": [
    {
     "data": {
      "text/plain": [
       "(#2) [Path('training'),Path('testing')]"
      ]
     },
     "execution_count": 216,
     "metadata": {},
     "output_type": "execute_result"
    }
   ],
   "source": [
    "path.ls()"
   ]
  },
  {
   "cell_type": "code",
   "execution_count": 217,
   "id": "f90a8eb6",
   "metadata": {},
   "outputs": [
    {
     "data": {
      "text/plain": [
       "(#10) [Path('training/9'),Path('training/0'),Path('training/7'),Path('training/6'),Path('training/1'),Path('training/8'),Path('training/4'),Path('training/3'),Path('training/2'),Path('training/5')]"
      ]
     },
     "execution_count": 217,
     "metadata": {},
     "output_type": "execute_result"
    }
   ],
   "source": [
    "(path/'training').ls()"
   ]
  },
  {
   "cell_type": "code",
   "execution_count": 218,
   "id": "1470d742",
   "metadata": {},
   "outputs": [],
   "source": [
    "zeros = (path/'training'/'0').ls().sorted()\n",
    "ones = (path/'training'/'1').ls().sorted()\n",
    "twos = (path/'training'/'2').ls().sorted()\n",
    "threes = (path/'training'/'3').ls().sorted()\n",
    "fours = (path/'training'/'4').ls().sorted()\n",
    "fives = (path/'training'/'5').ls().sorted()\n",
    "sixes = (path/'training'/'6').ls().sorted()\n",
    "sevens = (path/'training'/'7').ls().sorted()\n",
    "eights = (path/'training'/'8').ls().sorted()\n",
    "nines = (path/'training'/'9').ls().sorted()"
   ]
  },
  {
   "cell_type": "code",
   "execution_count": 219,
   "id": "78b836a2",
   "metadata": {},
   "outputs": [],
   "source": [
    "valid_zeros = (path/'testing'/'0').ls().sorted()\n",
    "valid_ones = (path/'testing'/'1').ls().sorted()\n",
    "valid_twos = (path/'testing'/'2').ls().sorted()\n",
    "valid_threes = (path/'testing'/'3').ls().sorted()\n",
    "valid_fours = (path/'testing'/'4').ls().sorted()\n",
    "valid_fives = (path/'testing'/'5').ls().sorted()\n",
    "valid_sixes = (path/'testing'/'6').ls().sorted()\n",
    "valid_sevens = (path/'testing'/'7').ls().sorted()\n",
    "valid_eights = (path/'testing'/'8').ls().sorted()\n",
    "valid_nines = (path/'testing'/'9').ls().sorted()"
   ]
  },
  {
   "cell_type": "code",
   "execution_count": 220,
   "id": "f9abce59",
   "metadata": {},
   "outputs": [
    {
     "data": {
      "text/plain": [
       "(5923, 6742, 5958, 6131, 5842, 5421, 5918, 6265, 5851, 5949)"
      ]
     },
     "execution_count": 220,
     "metadata": {},
     "output_type": "execute_result"
    }
   ],
   "source": [
    "# make tensors for each number\n",
    "zero_tensors = [tensor(Image.open(o)) for o in zeros]\n",
    "one_tensors = [tensor(Image.open(o)) for o in ones]\n",
    "two_tensors = [tensor(Image.open(o)) for o in twos]\n",
    "three_tensors = [tensor(Image.open(o)) for o in threes]\n",
    "four_tensors = [tensor(Image.open(o)) for o in fours]\n",
    "five_tensors = [tensor(Image.open(o)) for o in fives]\n",
    "six_tensors = [tensor(Image.open(o)) for o in sixes]\n",
    "seven_tensors = [tensor(Image.open(o)) for o in sevens]\n",
    "eight_tensors = [tensor(Image.open(o)) for o in eights]\n",
    "nine_tensors = [tensor(Image.open(o)) for o in nines]\n",
    "len(zero_tensors),len(one_tensors),len(two_tensors),len(three_tensors),len(four_tensors),len(five_tensors),len(six_tensors),len(seven_tensors),len(eight_tensors),len(nine_tensors)"
   ]
  },
  {
   "cell_type": "code",
   "execution_count": 221,
   "id": "56dc5fa8",
   "metadata": {},
   "outputs": [],
   "source": [
    "# make tensors for each valid number\n",
    "valid_zero_tensors = [tensor(Image.open(o)) for o in valid_zeros]\n",
    "valid_one_tensors = [tensor(Image.open(o)) for o in valid_ones]\n",
    "valid_two_tensors = [tensor(Image.open(o)) for o in valid_twos]\n",
    "valid_three_tensors = [tensor(Image.open(o)) for o in valid_threes]\n",
    "valid_four_tensors = [tensor(Image.open(o)) for o in valid_fours]\n",
    "valid_five_tensors = [tensor(Image.open(o)) for o in valid_fives]\n",
    "valid_six_tensors = [tensor(Image.open(o)) for o in valid_sixes]\n",
    "valid_seven_tensors = [tensor(Image.open(o)) for o in valid_sevens]\n",
    "valid_eight_tensors = [tensor(Image.open(o)) for o in valid_eights]\n",
    "valid_nine_tensors = [tensor(Image.open(o)) for o in valid_nines]"
   ]
  },
  {
   "cell_type": "code",
   "execution_count": null,
   "id": "397e0869",
   "metadata": {},
   "outputs": [],
   "source": []
  },
  {
   "cell_type": "code",
   "execution_count": 222,
   "id": "47a6c5d6",
   "metadata": {},
   "outputs": [
    {
     "data": {
      "text/plain": [
       "torch.Size([6131, 28, 28])"
      ]
     },
     "execution_count": 222,
     "metadata": {},
     "output_type": "execute_result"
    }
   ],
   "source": [
    "# stack and normalize\n",
    "def normalize(tensor):\n",
    "    mean, std = tensor.mean(), tensor.std()\n",
    "    return (tensor - mean) / std\n",
    "\n",
    "# Normalize the stacked digits\n",
    "stacked_zeros = normalize(torch.stack(zero_tensors).float()/255)\n",
    "stacked_ones = normalize(torch.stack(one_tensors).float()/255)\n",
    "stacked_twos = normalize(torch.stack(two_tensors).float()/255)\n",
    "stacked_threes = normalize(torch.stack(three_tensors).float()/255)\n",
    "stacked_fours = normalize(torch.stack(four_tensors).float()/255)\n",
    "stacked_fives = normalize(torch.stack(five_tensors).float()/255)\n",
    "stacked_sixes = normalize(torch.stack(six_tensors).float()/255)\n",
    "stacked_sevens = normalize(torch.stack(seven_tensors).float()/255)\n",
    "stacked_eights = normalize(torch.stack(eight_tensors).float()/255)\n",
    "stacked_nines = normalize(torch.stack(nine_tensors).float()/255)\n",
    "\n",
    "stacked_threes.shape"
   ]
  },
  {
   "cell_type": "code",
   "execution_count": 223,
   "id": "2d92f4d9",
   "metadata": {},
   "outputs": [],
   "source": [
    "valid_stacked_zeros = normalize(torch.stack(valid_zero_tensors).float()/255)\n",
    "valid_stacked_ones = normalize(torch.stack(valid_one_tensors).float()/255)\n",
    "valid_stacked_twos = normalize(torch.stack(valid_two_tensors).float()/255)\n",
    "valid_stacked_threes = normalize(torch.stack(valid_three_tensors).float()/255)\n",
    "valid_stacked_fours = normalize(torch.stack(valid_four_tensors).float()/255)\n",
    "valid_stacked_fives = normalize(torch.stack(valid_five_tensors).float()/255)\n",
    "valid_stacked_sixes = normalize(torch.stack(valid_six_tensors).float()/255)\n",
    "valid_stacked_sevens = normalize(torch.stack(valid_seven_tensors).float()/255)\n",
    "valid_stacked_eights = normalize(torch.stack(valid_eight_tensors).float()/255)\n",
    "valid_stacked_nines = normalize(torch.stack(valid_nine_tensors).float()/255)"
   ]
  },
  {
   "cell_type": "code",
   "execution_count": 224,
   "id": "77c321ff",
   "metadata": {},
   "outputs": [
    {
     "data": {
      "image/png": "[encoded data removed]",
      "text/plain": [
       "<Figure size 100x100 with 1 Axes>"
      ]
     },
     "metadata": {},
     "output_type": "display_data"
    }
   ],
   "source": [
    "mean3 = stacked_threes.mean(0)\n",
    "show_image(mean3);"
   ]
  },
  {
   "cell_type": "code",
   "execution_count": 225,
   "id": "58c42c9c",
   "metadata": {},
   "outputs": [],
   "source": [
    "digits = [tensor(stacked_zeros[:5000]),tensor(stacked_ones[:5000]),tensor(stacked_twos[:5000]),tensor(stacked_threes[:5000]),\n",
    "             tensor(stacked_fours[:5000]),tensor(stacked_fives[:5000]),tensor(stacked_sixes[:5000]),tensor(stacked_sevens[:5000]),\n",
    "             tensor(stacked_eights[:5000]),tensor(stacked_nines[:5000])]\n",
    "\n",
    "stacked_digits = torch.stack(digits).float()"
   ]
  },
  {
   "cell_type": "code",
   "execution_count": 226,
   "id": "3e2cfa3d",
   "metadata": {},
   "outputs": [
    {
     "data": {
      "text/plain": [
       "torch.Size([10, 5000, 28, 28])"
      ]
     },
     "execution_count": 226,
     "metadata": {},
     "output_type": "execute_result"
    }
   ],
   "source": [
    "stacked_digits.shape"
   ]
  },
  {
   "cell_type": "code",
   "execution_count": 227,
   "id": "dcd0bcfc",
   "metadata": {},
   "outputs": [],
   "source": [
    "mean_digits = stacked_digits.mean(1)\n"
   ]
  },
  {
   "cell_type": "code",
   "execution_count": 228,
   "id": "77e25733",
   "metadata": {},
   "outputs": [
    {
     "data": {
      "image/png": "[encoded data removed]",
      "text/plain": [
       "<Figure size 100x100 with 1 Axes>"
      ]
     },
     "metadata": {},
     "output_type": "display_data"
    },
    {
     "data": {
      "image/png": "[encoded data removed]",
      "text/plain": [
       "<Figure size 100x100 with 1 Axes>"
      ]
     },
     "metadata": {},
     "output_type": "display_data"
    },
    {
     "data": {
      "image/png": "[encoded data removed]",
      "text/plain": [
       "<Figure size 100x100 with 1 Axes>"
      ]
     },
     "metadata": {},
     "output_type": "display_data"
    },
    {
     "data": {
      "image/png": "[encoded data removed]",
      "text/plain": [
       "<Figure size 100x100 with 1 Axes>"
      ]
     },
     "metadata": {},
     "output_type": "display_data"
    },
    {
     "data": {
      "image/png": "[encoded data removed]",
      "text/plain": [
       "<Figure size 100x100 with 1 Axes>"
      ]
     },
     "metadata": {},
     "output_type": "display_data"
    },
    {
     "data": {
      "image/png": "[encoded data removed]",
      "text/plain": [
       "<Figure size 100x100 with 1 Axes>"
      ]
     },
     "metadata": {},
     "output_type": "display_data"
    },
    {
     "data": {
      "image/png": "[encoded data removed]",
      "text/plain": [
       "<Figure size 100x100 with 1 Axes>"
      ]
     },
     "metadata": {},
     "output_type": "display_data"
    },
    {
     "data": {
      "image/png": "[encoded data removed]",
      "text/plain": [
       "<Figure size 100x100 with 1 Axes>"
      ]
     },
     "metadata": {},
     "output_type": "display_data"
    },
    {
     "data": {
      "image/png": "[encoded data removed]",
      "text/plain": [
       "<Figure size 100x100 with 1 Axes>"
      ]
     },
     "metadata": {},
     "output_type": "display_data"
    },
    {
     "data": {
      "image/png": "[encoded data removed]",
      "text/plain": [
       "<Figure size 100x100 with 1 Axes>"
      ]
     },
     "metadata": {},
     "output_type": "display_data"
    }
   ],
   "source": [
    "mean_digits.shape\n",
    "\n",
    "for i in range(10):\n",
    "    show_image(mean_digits[i])"
   ]
  },
  {
   "cell_type": "code",
   "execution_count": 229,
   "id": "7d120582",
   "metadata": {},
   "outputs": [
    {
     "name": "stdout",
     "output_type": "stream",
     "text": [
      "0\n",
      "tensor(0.3475)\n",
      "tensor(0.5872)\n",
      "1\n",
      "tensor(0.3558)\n",
      "tensor(0.6043)\n",
      "2\n",
      "tensor(0.2527)\n",
      "tensor(0.4848)\n",
      "3\n",
      "tensor(0.0043)\n",
      "tensor(0.0074)\n",
      "4\n",
      "tensor(0.3556)\n",
      "tensor(0.6016)\n",
      "5\n",
      "tensor(0.1953)\n",
      "tensor(0.3481)\n",
      "6\n",
      "tensor(0.3496)\n",
      "tensor(0.6036)\n",
      "7\n",
      "tensor(0.3666)\n",
      "tensor(0.6030)\n",
      "8\n",
      "tensor(0.2219)\n",
      "tensor(0.3981)\n",
      "9\n",
      "tensor(0.3323)\n",
      "tensor(0.5496)\n"
     ]
    }
   ],
   "source": [
    "for i in range(10):\n",
    "    print(i)\n",
    "    print(F.l1_loss(mean3.float(),mean_digits[i])) \n",
    "    print(F.mse_loss(mean3,mean_digits[i]).sqrt())"
   ]
  },
  {
   "cell_type": "code",
   "execution_count": 230,
   "id": "4e8f4085",
   "metadata": {},
   "outputs": [],
   "source": [
    "def find_digit(x):\n",
    "    comparisons = tensor([F.mse_loss(x,mean_digits[i]).sqrt() for i in range(10)])\n",
    "    min_index = torch.argmin(comparisons)\n",
    "    return min_index"
   ]
  },
  {
   "cell_type": "code",
   "execution_count": 390,
   "id": "3dcaef9e",
   "metadata": {},
   "outputs": [
    {
     "data": {
      "text/plain": [
       "tensor(4)"
      ]
     },
     "execution_count": 390,
     "metadata": {},
     "output_type": "execute_result"
    },
    {
     "data": {
      "image/png": "[encoded data removed]",
      "text/plain": [
       "<Figure size 100x100 with 1 Axes>"
      ]
     },
     "metadata": {},
     "output_type": "display_data"
    }
   ],
   "source": [
    "digit = stacked_eights[7]\n",
    "show_image(digit)\n",
    "find_digit(digit)"
   ]
  },
  {
   "cell_type": "code",
   "execution_count": 330,
   "id": "2efaa4a7",
   "metadata": {},
   "outputs": [],
   "source": [
    "# sgd\n",
    "\n",
    "train_data = torch.cat([stacked_zeros, stacked_ones, stacked_twos, stacked_threes,\n",
    "                        stacked_fours, stacked_fives, stacked_sixes, stacked_sevens, \n",
    "                        stacked_eights, stacked_nines]).view(-1, 28*28)\n",
    "train_labels = torch.cat([\n",
    "    torch.zeros(len(zeros)),\n",
    "    torch.ones(len(ones)),\n",
    "    torch.ones(len(twos)) * 2,\n",
    "    torch.ones(len(threes)) * 3,\n",
    "    torch.ones(len(fours)) * 4,\n",
    "    torch.ones(len(fives)) * 5,\n",
    "    torch.ones(len(sixes)) * 6,\n",
    "    torch.ones(len(sevens)) * 7,\n",
    "    torch.ones(len(eights)) * 8,\n",
    "    torch.ones(len(nines)) * 9\n",
    "]).unsqueeze(1)\n",
    "\n",
    "valid_data = torch.cat([valid_stacked_zeroes, valid_stacked_ones, valid_stacked_twos, valid_stacked_threes,\n",
    "                        valid_stacked_fours, valid_stacked_fives, valid_stacked_sixes, valid_stacked_sevens, \n",
    "                        valid_stacked_eights, valid_stacked_nines]).view(-1, 28*28)\n",
    "valid_labels = torch.cat([\n",
    "    torch.zeros(len(valid_zeros)),\n",
    "    torch.ones(len(valid_ones)),\n",
    "    torch.ones(len(valid_twos)) * 2,\n",
    "    torch.ones(len(valid_threes)) * 3,\n",
    "    torch.ones(len(valid_fours)) * 4,\n",
    "    torch.ones(len(valid_fives)) * 5,\n",
    "    torch.ones(len(valid_sixes)) * 6,\n",
    "    torch.ones(len(valid_sevens)) * 7,\n",
    "    torch.ones(len(valid_eights)) * 8,\n",
    "    torch.ones(len(valid_nines)) * 9\n",
    "]).unsqueeze(1)"
   ]
  },
  {
   "cell_type": "code",
   "execution_count": 331,
   "id": "8fd38de6",
   "metadata": {},
   "outputs": [
    {
     "data": {
      "text/plain": [
       "(torch.Size([60000, 784]),\n",
       " torch.Size([60000, 1]),\n",
       " torch.Size([10000, 784]),\n",
       " torch.Size([10000, 1]))"
      ]
     },
     "execution_count": 331,
     "metadata": {},
     "output_type": "execute_result"
    }
   ],
   "source": [
    "train_data.shape,train_labels.shape,valid_data.shape,valid_labels.shape"
   ]
  },
  {
   "cell_type": "code",
   "execution_count": 332,
   "id": "9696f33d",
   "metadata": {},
   "outputs": [],
   "source": [
    "# make dsets\n",
    "\n",
    "train_dataset = list(zip(train_data, train_labels))\n",
    "\n",
    "valid_dataset = list(zip(valid_data, valid_labels))"
   ]
  },
  {
   "cell_type": "code",
   "execution_count": 342,
   "id": "f83dd1bc",
   "metadata": {},
   "outputs": [
    {
     "name": "stdout",
     "output_type": "stream",
     "text": [
      "Parameter containing:\n",
      "tensor([[ 0.0149,  0.0217, -0.0106,  ..., -0.0251,  0.0170,  0.0101],\n",
      "        [-0.0223,  0.0287,  0.0282,  ..., -0.0104, -0.0355, -0.0044],\n",
      "        [ 0.0174,  0.0007, -0.0340,  ...,  0.0262,  0.0084,  0.0231],\n",
      "        ...,\n",
      "        [-0.0016,  0.0334, -0.0261,  ..., -0.0244, -0.0178,  0.0021],\n",
      "        [ 0.0174, -0.0207, -0.0333,  ..., -0.0141,  0.0137,  0.0174],\n",
      "        [ 0.0027, -0.0122,  0.0351,  ..., -0.0353, -0.0271, -0.0027]], requires_grad=True)\n",
      "Parameter containing:\n",
      "tensor([-0.0070, -0.0122,  0.0111,  0.0060,  0.0100, -0.0265,  0.0309,  0.0306,  0.0354, -0.0127], requires_grad=True)\n"
     ]
    }
   ],
   "source": [
    "# init params with linear model\n",
    "\n",
    "input_size = 28 * 28 \n",
    "output_size = 10  # Number of output classes (0-9 digits)\n",
    "\n",
    "linear = nn.Linear(input_size, output_size)\n",
    "\n",
    "print(linear.weight)\n",
    "print(linear.bias)"
   ]
  },
  {
   "cell_type": "code",
   "execution_count": 334,
   "id": "815aa960",
   "metadata": {},
   "outputs": [],
   "source": [
    "# cross entropy loss function\n",
    "\n",
    "def softmax(x):\n",
    "    return torch.exp(x) / torch.exp(x).sum(dim=1, keepdim=True)\n",
    "\n",
    "def cross_entropy_loss(outputs, labels):\n",
    "    probs = softmax(outputs)\n",
    "    labels = labels.squeeze(1).long()\n",
    "    one_hot_labels = F.one_hot(labels, num_classes=probs.shape[1]).float()\n",
    "    loss = -torch.sum(one_hot_labels * torch.log(probs + 1e-8)) / outputs.shape[0]\n",
    "    return loss\n"
   ]
  },
  {
   "cell_type": "code",
   "execution_count": 343,
   "id": "e344e116",
   "metadata": {},
   "outputs": [
    {
     "data": {
      "text/plain": [
       "(torch.Size([256, 784]), torch.Size([256, 1]))"
      ]
     },
     "execution_count": 343,
     "metadata": {},
     "output_type": "execute_result"
    }
   ],
   "source": [
    "dl = DataLoader(train_dataset, batch_size=256)\n",
    "xb,yb = first(dl)\n",
    "xb.shape,yb.shape"
   ]
  },
  {
   "cell_type": "code",
   "execution_count": 344,
   "id": "eb52f7c7",
   "metadata": {},
   "outputs": [],
   "source": [
    "valid_dl = DataLoader(valid_dataset, batch_size=256)"
   ]
  },
  {
   "cell_type": "code",
   "execution_count": null,
   "id": "1585cdad",
   "metadata": {},
   "outputs": [],
   "source": []
  },
  {
   "cell_type": "code",
   "execution_count": null,
   "id": "5da69c9a",
   "metadata": {},
   "outputs": [],
   "source": []
  },
  {
   "cell_type": "code",
   "execution_count": null,
   "id": "e0b01764",
   "metadata": {},
   "outputs": [],
   "source": []
  },
  {
   "cell_type": "code",
   "execution_count": null,
   "id": "c198d061",
   "metadata": {},
   "outputs": [],
   "source": [
    "\n"
   ]
  },
  {
   "cell_type": "code",
   "execution_count": null,
   "id": "dcc7dce1",
   "metadata": {},
   "outputs": [],
   "source": []
  },
  {
   "cell_type": "code",
   "execution_count": 345,
   "id": "fc208809",
   "metadata": {},
   "outputs": [],
   "source": [
    "def calc_grad(xb, yb, model):\n",
    "    preds = model(xb)\n",
    "    loss = cross_entropy_loss(preds, yb)\n",
    "    loss.backward()"
   ]
  },
  {
   "cell_type": "code",
   "execution_count": null,
   "id": "b86036c2",
   "metadata": {},
   "outputs": [],
   "source": []
  },
  {
   "cell_type": "code",
   "execution_count": null,
   "id": "9ca2935c",
   "metadata": {},
   "outputs": [],
   "source": []
  },
  {
   "cell_type": "code",
   "execution_count": null,
   "id": "749a6af7",
   "metadata": {},
   "outputs": [],
   "source": []
  },
  {
   "cell_type": "code",
   "execution_count": 346,
   "id": "38933e65",
   "metadata": {},
   "outputs": [],
   "source": [
    "def train_epoch(model, lr, params):\n",
    "    for xb,yb in dl:\n",
    "        calc_grad(xb,yb,model)\n",
    "        for p in params:\n",
    "            p.data -= p.grad*lr\n",
    "            p.grad.zero_()"
   ]
  },
  {
   "cell_type": "code",
   "execution_count": 347,
   "id": "8d1cca6c",
   "metadata": {},
   "outputs": [],
   "source": [
    "def batch_accuracy(xb, yb):\n",
    "    preds = torch.argmax(xb, dim=1)\n",
    "    correct = preds == yb.squeeze()\n",
    "    return correct.float().mean()"
   ]
  },
  {
   "cell_type": "code",
   "execution_count": null,
   "id": "f4f2ced3",
   "metadata": {},
   "outputs": [],
   "source": []
  },
  {
   "cell_type": "code",
   "execution_count": 348,
   "id": "1ed78197",
   "metadata": {},
   "outputs": [],
   "source": [
    "def validate_epoch(model):\n",
    "    accs = [batch_accuracy(model(xb), yb) for xb,yb in valid_dl]\n",
    "    return round(torch.stack(accs).mean().item(), 4)"
   ]
  },
  {
   "cell_type": "code",
   "execution_count": null,
   "id": "6622f316",
   "metadata": {},
   "outputs": [],
   "source": []
  },
  {
   "cell_type": "code",
   "execution_count": 349,
   "id": "feb79d73",
   "metadata": {},
   "outputs": [
    {
     "name": "stdout",
     "output_type": "stream",
     "text": [
      "(Parameter containing:\n",
      "tensor([[ 0.0149,  0.0217, -0.0106,  ..., -0.0251,  0.0170,  0.0101],\n",
      "        [-0.0223,  0.0287,  0.0282,  ..., -0.0104, -0.0355, -0.0044],\n",
      "        [ 0.0174,  0.0007, -0.0340,  ...,  0.0262,  0.0084,  0.0231],\n",
      "        ...,\n",
      "        [-0.0016,  0.0334, -0.0261,  ..., -0.0244, -0.0178,  0.0021],\n",
      "        [ 0.0174, -0.0207, -0.0333,  ..., -0.0141,  0.0137,  0.0174],\n",
      "        [ 0.0027, -0.0122,  0.0351,  ..., -0.0353, -0.0271, -0.0027]], requires_grad=True), Parameter containing:\n",
      "tensor([-0.0070, -0.0122,  0.0111,  0.0060,  0.0100, -0.0265,  0.0309,  0.0306,  0.0354, -0.0127], requires_grad=True))\n"
     ]
    }
   ],
   "source": [
    "lr = 0.01\n",
    "params = linear.weight,linear.bias\n",
    "print(params)"
   ]
  },
  {
   "cell_type": "code",
   "execution_count": 350,
   "id": "8a7c232d",
   "metadata": {},
   "outputs": [
    {
     "name": "stdout",
     "output_type": "stream",
     "text": [
      "0.1518 0.3354 0.4473 0.5045 0.544 0.5724 0.5973 0.6162 0.6302 0.6396 0.6503 0.6591 0.6665 0.6723 0.6781 0.6848 0.6894 0.6932 0.6985 0.7023 0.7062 0.7098 0.7122 0.7154 0.7181 0.7205 0.7237 0.7262 0.7286 0.7309 "
     ]
    }
   ],
   "source": [
    "for i in range(30):\n",
    "    train_epoch(linear, lr, params)\n",
    "    print(validate_epoch(linear), end=' ')"
   ]
  },
  {
   "cell_type": "code",
   "execution_count": null,
   "id": "87cb504c",
   "metadata": {},
   "outputs": [],
   "source": []
  },
  {
   "cell_type": "code",
   "execution_count": 352,
   "id": "3361329f",
   "metadata": {},
   "outputs": [],
   "source": [
    "# basic optimizer\n",
    "\n",
    "class BasicOptim:\n",
    "    def __init__(self,params,lr): self.params,self.lr = list(params),lr\n",
    "    \n",
    "    def step(self, *args, **kwargs):\n",
    "        for p in self.params: p.data -= p.grad.data * self.lr\n",
    "            \n",
    "    def zero_grad(self, *args, **kwargs):\n",
    "        for p in self.params: p.grad = None\n",
    "            "
   ]
  },
  {
   "cell_type": "code",
   "execution_count": 354,
   "id": "6a37b155",
   "metadata": {},
   "outputs": [],
   "source": [
    "opt = BasicOptim(linear.parameters(), lr)"
   ]
  },
  {
   "cell_type": "code",
   "execution_count": 355,
   "id": "2d32a2df",
   "metadata": {},
   "outputs": [],
   "source": [
    "def train_epoch(model):\n",
    "    for xb,yb in dl:\n",
    "        calc_grad(xb, yb, model)\n",
    "        opt.step()\n",
    "        opt.zero_grad()"
   ]
  },
  {
   "cell_type": "code",
   "execution_count": 356,
   "id": "447c3f45",
   "metadata": {},
   "outputs": [],
   "source": [
    "def train_model(model, epochs):\n",
    "    for i in range(epochs):\n",
    "        train_epoch(model)\n",
    "        print(validate_epoch(model), end=' ')"
   ]
  },
  {
   "cell_type": "code",
   "execution_count": 357,
   "id": "cf58bb3a",
   "metadata": {},
   "outputs": [
    {
     "name": "stdout",
     "output_type": "stream",
     "text": [
      "0.7325 0.7344 0.736 0.7378 0.7407 0.7427 0.7443 0.7452 0.7472 0.7486 0.7494 0.7501 0.7513 0.7534 0.7546 0.7566 0.7579 0.7584 0.76 0.7603 "
     ]
    }
   ],
   "source": [
    "train_model(linear, 20)"
   ]
  },
  {
   "cell_type": "code",
   "execution_count": 358,
   "id": "7e37fcc1",
   "metadata": {},
   "outputs": [],
   "source": [
    "# layering basic nn\n",
    "\n",
    "\n",
    "class BasicNN(nn.Module):\n",
    "    def __init__(self, input_size, hidden_size, output_size):\n",
    "        super(BasicNN, self).__init__()\n",
    "        self.hidden = nn.Linear(input_size, hidden_size)\n",
    "        self.output = nn.Linear(hidden_size, output_size)\n",
    "        \n",
    "    def forward(self, x):\n",
    "        x = F.relu(self.hidden(x))\n",
    "        x = self.output(x)\n",
    "        return x\n",
    "\n",
    "# Define input, hidden, and output sizes\n",
    "input_size = 28 * 28\n",
    "hidden_size = 128\n",
    "output_size = 10\n",
    "\n",
    "# Initialize the model\n",
    "basic_model = BasicNN(input_size, hidden_size, output_size)"
   ]
  },
  {
   "cell_type": "code",
   "execution_count": 359,
   "id": "ba6020ce",
   "metadata": {},
   "outputs": [],
   "source": [
    "opt = BasicOptim(basic_model.parameters(), lr)"
   ]
  },
  {
   "cell_type": "code",
   "execution_count": 361,
   "id": "3612c93d",
   "metadata": {},
   "outputs": [
    {
     "name": "stdout",
     "output_type": "stream",
     "text": [
      "0.7533 0.7598 0.7659 0.7732 0.7789 0.7838 0.7891 0.7935 0.7983 0.8032 0.8074 0.8105 0.8151 0.8188 0.8227 0.8258 0.8286 0.8318 0.8348 0.8384 0.8417 0.8449 0.848 0.8508 0.8534 0.8553 0.8582 0.8612 0.8644 0.8669 0.8691 0.8718 0.8751 0.8777 0.8798 0.8824 0.8847 0.8868 0.8885 0.8907 0.8931 0.8949 0.8961 0.898 0.8998 0.9015 0.9026 0.9036 0.9045 0.9064 0.908 0.9102 0.9117 0.912 0.9135 0.9146 0.9154 0.9167 0.9178 0.9187 0.9202 0.9217 0.9225 0.9236 0.9247 0.9251 0.926 0.926 0.9269 0.9276 0.9281 0.9287 0.9295 0.9307 0.9312 0.9316 0.9326 0.9329 0.933 0.9334 0.9343 0.9353 0.9354 0.9358 0.9363 0.937 0.9377 0.9383 0.9384 0.9386 0.9391 0.9392 0.9395 0.9404 0.9409 0.9413 0.942 0.9427 0.9429 0.9431 "
     ]
    }
   ],
   "source": [
    "train_model(basic_model, 100)"
   ]
  },
  {
   "cell_type": "code",
   "execution_count": 362,
   "id": "641ec137",
   "metadata": {},
   "outputs": [],
   "source": [
    "# Define the enhanced neural network with more layers\n",
    "\n",
    "class EnhancedNN(nn.Module):\n",
    "    def __init__(self, input_size, hidden_sizes, output_size):\n",
    "        super(EnhancedNN, self).__init__()\n",
    "        self.hidden_layers = nn.ModuleList()\n",
    "        \n",
    "        # Input layer\n",
    "        self.hidden_layers.append(nn.Linear(input_size, hidden_sizes[0]))\n",
    "        \n",
    "        # Hidden layers\n",
    "        for i in range(1, len(hidden_sizes)):\n",
    "            self.hidden_layers.append(nn.Linear(hidden_sizes[i-1], hidden_sizes[i]))\n",
    "        \n",
    "        # Output layer\n",
    "        self.output = nn.Linear(hidden_sizes[-1], output_size)\n",
    "        \n",
    "    def forward(self, x):\n",
    "        for layer in self.hidden_layers:\n",
    "            x = F.relu(layer(x))  # Non-linearity after each hidden layer\n",
    "        x = self.output(x)  # Output layer\n",
    "        return x"
   ]
  },
  {
   "cell_type": "code",
   "execution_count": 363,
   "id": "b9df1e4c",
   "metadata": {},
   "outputs": [],
   "source": [
    "input_size = 28 * 28\n",
    "hidden_sizes = [128, 64]  # Example of adding two hidden layers\n",
    "output_size = 10\n",
    "\n",
    "# Initialize the enhanced model\n",
    "model = EnhancedNN(input_size, hidden_sizes, output_size)"
   ]
  },
  {
   "cell_type": "code",
   "execution_count": 364,
   "id": "36104e94",
   "metadata": {},
   "outputs": [],
   "source": [
    "opt = BasicOptim(model.parameters(), lr)"
   ]
  },
  {
   "cell_type": "code",
   "execution_count": 370,
   "id": "a1136e90",
   "metadata": {},
   "outputs": [
    {
     "name": "stdout",
     "output_type": "stream",
     "text": [
      "0.9767 0.9767 0.9768 0.9767 0.9768 0.9769 0.9769 0.9771 0.977 0.977 0.977 0.977 0.977 0.977 0.977 0.9771 0.9771 0.9771 0.9771 0.9771 0.9771 0.9771 0.9771 0.9771 0.9771 0.9772 0.9773 0.9775 0.9775 0.9776 0.9776 0.9777 0.9777 0.9777 0.9777 0.9778 0.9778 0.9777 0.9777 0.978 0.978 0.9781 0.9781 0.9782 0.9783 0.9783 0.9783 0.9784 0.9784 0.9785 0.9785 0.9785 0.9785 0.9784 0.9784 0.9784 0.9784 0.9784 0.9785 0.9785 0.9786 0.9787 0.9787 0.9788 0.9786 0.9787 0.9788 0.9789 0.9789 0.9789 0.9791 0.9791 0.9791 0.9792 0.9793 0.9793 0.9793 0.9794 0.9796 0.9796 0.9798 0.98 0.98 0.98 0.9801 0.9801 0.98 0.9801 0.98 0.9801 0.9801 0.9803 0.9803 0.9803 0.9803 0.9803 0.9804 0.9804 0.9804 0.9804 "
     ]
    }
   ],
   "source": [
    "train_model(model, 100)"
   ]
  },
  {
   "cell_type": "code",
   "execution_count": 371,
   "id": "0b651faf",
   "metadata": {},
   "outputs": [],
   "source": [
    "def predict_image(model, image):\n",
    "    # Set the model to evaluation mode\n",
    "    model.eval()\n",
    "    \n",
    "    # Flatten the image if necessary\n",
    "    if len(image.shape) > 1:\n",
    "        image = image.view(-1, 28*28)\n",
    "    \n",
    "    # Forward pass: compute predicted outputs by passing inputs to the model\n",
    "    with torch.no_grad():\n",
    "        outputs = model(image)\n",
    "    \n",
    "    # Apply softmax to get probabilities\n",
    "    probabilities = torch.softmax(outputs, dim=1)\n",
    "    \n",
    "    # Get the predicted class (the index with the highest probability)\n",
    "    predicted_class = torch.argmax(probabilities, dim=1)\n",
    "    \n",
    "    return predicted_class.item(), probabilities"
   ]
  },
  {
   "cell_type": "code",
   "execution_count": 389,
   "id": "815ee829",
   "metadata": {},
   "outputs": [
    {
     "name": "stdout",
     "output_type": "stream",
     "text": [
      "Predicted class: 8\n",
      "Probabilities: tensor([[1.3629e-10, 2.5763e-07, 5.3621e-10, 9.2534e-10, 1.6485e-03, 3.7609e-04, 2.3258e-05, 2.0266e-09, 9.9489e-01, 3.0640e-03]])\n"
     ]
    },
    {
     "data": {
      "image/png": "[encoded data removed]",
      "text/plain": [
       "<Figure size 100x100 with 1 Axes>"
      ]
     },
     "metadata": {},
     "output_type": "display_data"
    }
   ],
   "source": [
    "image = stacked_eights[7]\n",
    "show_image(image)\n",
    "\n",
    "predicted_class, probabilities = predict_image(model, image)\n",
    "print(f'Predicted class: {predicted_class}')\n",
    "print(f'Probabilities: {probabilities}')"
   ]
  },
  {
   "cell_type": "code",
   "execution_count": null,
   "id": "cd3a2728",
   "metadata": {},
   "outputs": [],
   "source": []
  }
 ],
 "metadata": {
  "kernelspec": {
   "display_name": "Python 3 (ipykernel)",
   "language": "python",
   "name": "python3"
  },
  "language_info": {
   "codemirror_mode": {
    "name": "ipython",
    "version": 3
   },
   "file_extension": ".py",
   "mimetype": "text/x-python",
   "name": "python",
   "nbconvert_exporter": "python",
   "pygments_lexer": "ipython3",
   "version": "3.11.5"
  }
 },
 "nbformat": 4,
 "nbformat_minor": 5
}
